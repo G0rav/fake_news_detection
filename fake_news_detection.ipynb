{
  "nbformat": 4,
  "nbformat_minor": 0,
  "metadata": {
    "kernelspec": {
      "name": "python3",
      "display_name": "Python 3",
      "language": "python"
    },
    "language_info": {
      "name": "python",
      "version": "3.7.6",
      "mimetype": "text/x-python",
      "codemirror_mode": {
        "name": "ipython",
        "version": 3
      },
      "pygments_lexer": "ipython3",
      "nbconvert_exporter": "python",
      "file_extension": ".py"
    },
    "colab": {
      "name": "fake_news_detection.ipynb",
      "provenance": [],
      "collapsed_sections": [
        "03rtzi8SV_3j",
        "RsWJ1Aa9WD2R",
        "BP3VwVS4U0TT",
        "V-ECEWl3U4Ua",
        "G7n6S2WdR9xt",
        "WHSe0l6t0UjJ"
      ]
    }
  },
  "cells": [
    {
      "cell_type": "markdown",
      "metadata": {
        "id": "03rtzi8SV_3j"
      },
      "source": [
        "# Importing Necessaary Libraries and dataset"
      ]
    },
    {
      "cell_type": "code",
      "metadata": {
        "id": "sVQJ17hQzJ-7",
        "colab": {
          "base_uri": "https://localhost:8080/"
        },
        "outputId": "648b76a5-ddc2-4593-9617-1b8bad00e83f"
      },
      "source": [
        "from google.colab import drive\n",
        "drive.mount('/content/drive')"
      ],
      "execution_count": 79,
      "outputs": [
        {
          "output_type": "stream",
          "text": [
            "Drive already mounted at /content/drive; to attempt to forcibly remount, call drive.mount(\"/content/drive\", force_remount=True).\n"
          ],
          "name": "stdout"
        }
      ]
    },
    {
      "cell_type": "code",
      "metadata": {
        "_uuid": "d629ff2d2480ee46fbb7e2d37f6b5fab8052498a",
        "_cell_guid": "79c7e3d0-c299-4dcb-8224-4455121ee9b0",
        "trusted": true,
        "id": "eKhpGUsUyQdS"
      },
      "source": [
        "import numpy as np\n",
        "import pandas as pd\n",
        "import seaborn as sns\n",
        "import matplotlib.pyplot as plt\n",
        "%matplotlib inline\n",
        " \n",
        "from sklearn.pipeline import Pipeline\n",
        "from sklearn.naive_bayes import MultinomialNB\n",
        "from sklearn.linear_model import LogisticRegression\n",
        "from sklearn.model_selection import train_test_split, cross_val_score\n",
        "from sklearn.feature_extraction.text import CountVectorizer, TfidfVectorizer\n",
        "from sklearn.metrics import accuracy_score, confusion_matrix, classification_report"
      ],
      "execution_count": 80,
      "outputs": []
    },
    {
      "cell_type": "code",
      "metadata": {
        "trusted": true,
        "id": "mKwtwbLRyQda"
      },
      "source": [
        "true = pd.read_csv('/content/drive/My Drive/Datasets/fake news data kaggle/True.csv')\n",
        "fake = pd.read_csv('/content/drive/My Drive/Datasets/fake news data kaggle/Fake.csv')"
      ],
      "execution_count": 81,
      "outputs": []
    },
    {
      "cell_type": "markdown",
      "metadata": {
        "id": "RsWJ1Aa9WD2R"
      },
      "source": [
        "# Exploring"
      ]
    },
    {
      "cell_type": "code",
      "metadata": {
        "trusted": true,
        "id": "Jbg0HUxJyQde",
        "colab": {
          "base_uri": "https://localhost:8080/"
        },
        "outputId": "498034f5-c05e-4f52-d0e3-7e6aaaf53874"
      },
      "source": [
        "print(true.info())\n",
        "print('='*50)\n",
        "print(fake.info())"
      ],
      "execution_count": 82,
      "outputs": [
        {
          "output_type": "stream",
          "text": [
            "<class 'pandas.core.frame.DataFrame'>\n",
            "RangeIndex: 21417 entries, 0 to 21416\n",
            "Data columns (total 4 columns):\n",
            " #   Column   Non-Null Count  Dtype \n",
            "---  ------   --------------  ----- \n",
            " 0   title    21417 non-null  object\n",
            " 1   text     21417 non-null  object\n",
            " 2   subject  21417 non-null  object\n",
            " 3   date     21417 non-null  object\n",
            "dtypes: object(4)\n",
            "memory usage: 669.4+ KB\n",
            "None\n",
            "==================================================\n",
            "<class 'pandas.core.frame.DataFrame'>\n",
            "RangeIndex: 23481 entries, 0 to 23480\n",
            "Data columns (total 4 columns):\n",
            " #   Column   Non-Null Count  Dtype \n",
            "---  ------   --------------  ----- \n",
            " 0   title    23481 non-null  object\n",
            " 1   text     23481 non-null  object\n",
            " 2   subject  23481 non-null  object\n",
            " 3   date     23481 non-null  object\n",
            "dtypes: object(4)\n",
            "memory usage: 733.9+ KB\n",
            "None\n"
          ],
          "name": "stdout"
        }
      ]
    },
    {
      "cell_type": "code",
      "metadata": {
        "trusted": true,
        "id": "DvE3L9-eyQdn",
        "colab": {
          "base_uri": "https://localhost:8080/"
        },
        "outputId": "a136d31f-417e-41dd-ac18-0e1e35f2380e"
      },
      "source": [
        "true['target'] = 1\n",
        "fake['target'] = 0\n",
        "df = pd.concat([true,fake], ignore_index=True)\n",
        "df.info()"
      ],
      "execution_count": 83,
      "outputs": [
        {
          "output_type": "stream",
          "text": [
            "<class 'pandas.core.frame.DataFrame'>\n",
            "RangeIndex: 44898 entries, 0 to 44897\n",
            "Data columns (total 5 columns):\n",
            " #   Column   Non-Null Count  Dtype \n",
            "---  ------   --------------  ----- \n",
            " 0   title    44898 non-null  object\n",
            " 1   text     44898 non-null  object\n",
            " 2   subject  44898 non-null  object\n",
            " 3   date     44898 non-null  object\n",
            " 4   target   44898 non-null  int64 \n",
            "dtypes: int64(1), object(4)\n",
            "memory usage: 1.7+ MB\n"
          ],
          "name": "stdout"
        }
      ]
    },
    {
      "cell_type": "code",
      "metadata": {
        "trusted": true,
        "id": "Ssr3M0UhyQdr",
        "colab": {
          "base_uri": "https://localhost:8080/",
          "height": 1000
        },
        "outputId": "883ae679-5aed-4100-a3c5-d016af6941f7"
      },
      "source": [
        "df['text'] = df.text.apply(lambda x: x.lower())\n",
        "display(df)"
      ],
      "execution_count": 84,
      "outputs": [
        {
          "output_type": "display_data",
          "data": {
            "text/html": [
              "<div>\n",
              "<style scoped>\n",
              "    .dataframe tbody tr th:only-of-type {\n",
              "        vertical-align: middle;\n",
              "    }\n",
              "\n",
              "    .dataframe tbody tr th {\n",
              "        vertical-align: top;\n",
              "    }\n",
              "\n",
              "    .dataframe thead th {\n",
              "        text-align: right;\n",
              "    }\n",
              "</style>\n",
              "<table border=\"1\" class=\"dataframe\">\n",
              "  <thead>\n",
              "    <tr style=\"text-align: right;\">\n",
              "      <th></th>\n",
              "      <th>title</th>\n",
              "      <th>text</th>\n",
              "      <th>subject</th>\n",
              "      <th>date</th>\n",
              "      <th>target</th>\n",
              "    </tr>\n",
              "  </thead>\n",
              "  <tbody>\n",
              "    <tr>\n",
              "      <th>0</th>\n",
              "      <td>As U.S. budget fight looms, Republicans flip their fiscal script</td>\n",
              "      <td>washington (reuters) - the head of a conservative republican faction in the u.s. congress, who voted this month for a huge expansion of the national debt to pay for tax cuts, called himself a “fiscal conservative” on sunday and urged budget restraint in 2018. in keeping with a sharp pivot under way among republicans, u.s. representative mark meadows, speaking on cbs’ “face the nation,” drew a hard line on federal spending, which lawmakers are bracing to do battle over in january. when they return from the holidays on wednesday, lawmakers will begin trying to pass a federal budget in a fight likely to be linked to other issues, such as immigration policy, even as the november congressional election campaigns approach in which republicans will seek to keep control of congress. president donald trump and his republicans want a big budget increase in military spending, while democrats also want proportional increases for non-defense “discretionary” spending on programs that support education, scientific research, infrastructure, public health and environmental protection. “the (trump) administration has already been willing to say: ‘we’re going to increase non-defense discretionary spending ... by about 7 percent,’” meadows, chairman of the small but influential house freedom caucus, said on the program. “now, democrats are saying that’s not enough, we need to give the government a pay raise of 10 to 11 percent. for a fiscal conservative, i don’t see where the rationale is. ... eventually you run out of other people’s money,” he said. meadows was among republicans who voted in late december for their party’s debt-financed tax overhaul, which is expected to balloon the federal budget deficit and add about $1.5 trillion over 10 years to the $20 trillion national debt. “it’s interesting to hear mark talk about fiscal responsibility,” democratic u.s. representative joseph crowley said on cbs. crowley said the republican tax bill would require the  united states to borrow $1.5 trillion, to be paid off by future generations, to finance tax cuts for corporations and the rich. “this is one of the least ... fiscally responsible bills we’ve ever seen passed in the history of the house of representatives. i think we’re going to be paying for this for many, many years to come,” crowley said. republicans insist the tax package, the biggest u.s. tax overhaul in more than 30 years,  will boost the economy and job growth. house speaker paul ryan, who also supported the tax bill, recently went further than meadows, making clear in a radio interview that welfare or “entitlement reform,” as the party often calls it, would be a top republican priority in 2018. in republican parlance, “entitlement” programs mean food stamps, housing assistance, medicare and medicaid health insurance for the elderly, poor and disabled, as well as other programs created by washington to assist the needy. democrats seized on ryan’s early december remarks, saying they showed republicans would try to pay for their tax overhaul by seeking spending cuts for social programs. but the goals of house republicans may have to take a back seat to the senate, where the votes of some democrats will be needed to approve a budget and prevent a government shutdown. democrats will use their leverage in the senate, which republicans narrowly control, to defend both discretionary non-defense programs and social spending, while tackling the issue of the “dreamers,” people brought illegally to the country as children. trump in september put a march 2018 expiration date on the deferred action for childhood arrivals, or daca, program, which protects the young immigrants from deportation and provides them with work permits. the president has said in recent twitter messages he wants funding for his proposed mexican border wall and other immigration law changes in exchange for agreeing to help the dreamers. representative debbie dingell told cbs she did not favor linking that issue to other policy objectives, such as wall funding. “we need to do daca clean,” she said.  on wednesday, trump aides will meet with congressional leaders to discuss those issues. that will be followed by a weekend of strategy sessions for trump and republican leaders on jan. 6 and 7, the white house said. trump was also scheduled to meet on sunday with florida republican governor rick scott, who wants more emergency aid. the house has passed an $81 billion aid package after hurricanes in florida, texas and puerto rico, and wildfires in california. the package far exceeded the $44 billion requested by the trump administration. the senate has not yet voted on the aid.</td>\n",
              "      <td>politicsNews</td>\n",
              "      <td>December 31, 2017</td>\n",
              "      <td>1</td>\n",
              "    </tr>\n",
              "    <tr>\n",
              "      <th>1</th>\n",
              "      <td>U.S. military to accept transgender recruits on Monday: Pentagon</td>\n",
              "      <td>washington (reuters) - transgender people will be allowed for the first time to enlist in the u.s. military starting on monday as ordered by federal courts, the pentagon said on friday, after president donald trump’s administration decided not to appeal rulings that blocked his transgender ban. two federal appeals courts, one in washington and one in virginia, last week rejected the administration’s request to put on hold orders by lower court judges requiring the military to begin accepting transgender recruits on jan. 1. a justice department official said the administration will not challenge those rulings. “the department of defense has announced that it will be releasing an independent study of these issues in the coming weeks. so rather than litigate this interim appeal before that occurs, the administration has decided to wait for dod’s study and will continue to defend the president’s lawful authority in district court in the meantime,” the official said, speaking on condition of anonymity. in september, the pentagon said it had created a panel of senior officials to study how to implement a directive by trump to prohibit transgender individuals from serving. the defense department has until feb. 21 to submit a plan to trump. lawyers representing currently-serving transgender service members and aspiring recruits said they had expected the administration to appeal the rulings to the conservative-majority supreme court, but were hoping that would not happen. pentagon spokeswoman heather babb said in a statement: “as mandated by court order, the department of defense is prepared to begin accessing transgender applicants for military service jan. 1. all applicants must meet all accession standards.” jennifer levi, a lawyer with gay, lesbian and transgender advocacy group glad, called the decision not to appeal “great news.” “i’m hoping it means the government has come to see that there is no way to justify a ban and that it’s not good for the military or our country,” levi said. both glad and the american civil liberties union represent plaintiffs in the lawsuits filed against the administration. in a move that appealed to his hard-line conservative supporters, trump announced in july that he would prohibit transgender people from serving in the military, reversing democratic president barack obama’s policy of accepting them. trump said on twitter at the time that the military “cannot be burdened with the tremendous medical costs and disruption that transgender in the military would entail.” four federal judges - in baltimore, washington, d.c., seattle and riverside, california - have issued rulings blocking trump’s ban while legal challenges to the republican president’s policy proceed. the judges said the ban would likely violate the right under the u.s. constitution to equal protection under the law. the pentagon on dec. 8 issued guidelines to recruitment personnel in order to enlist transgender applicants by jan. 1. the memo outlined medical requirements and specified how the applicants’ sex would be identified and even which undergarments they would wear. the trump administration previously said in legal papers that the armed forces were not prepared to train thousands of personnel on the medical standards needed to process transgender applicants and might have to accept “some individuals who are not medically fit for service.” the obama administration had set a deadline of july 1, 2017, to begin accepting transgender recruits. but trump’s defense secretary, james mattis, postponed that date to jan. 1, 2018, which the president’s ban then put off indefinitely. trump has taken other steps aimed at rolling back transgender rights. in october, his administration said a federal law banning gender-based workplace discrimination does not protect transgender employees, reversing another obama-era position. in february, trump rescinded guidance issued by the obama administration saying that public schools should allow transgender students to use the restroom that corresponds to their gender identity.</td>\n",
              "      <td>politicsNews</td>\n",
              "      <td>December 29, 2017</td>\n",
              "      <td>1</td>\n",
              "    </tr>\n",
              "    <tr>\n",
              "      <th>2</th>\n",
              "      <td>Senior U.S. Republican senator: 'Let Mr. Mueller do his job'</td>\n",
              "      <td>washington (reuters) - the special counsel investigation of links between russia and president trump’s 2016 election campaign should continue without interference in 2018, despite calls from some trump administration allies and republican lawmakers to shut it down, a prominent republican senator said on sunday. lindsey graham, who serves on the senate armed forces and judiciary committees, said department of justice special counsel robert mueller needs to carry on with his russia investigation without political interference. “this investigation will go forward. it will be an investigation conducted without political influence,” graham said on cbs’s face the nation news program. “and we all need to let mr. mueller do his job. i think he’s the right guy at the right time.”  the question of how russia may have interfered in the election, and how trump’s campaign may have had links with or co-ordinated any such effort, has loomed over the white house since trump took office in january. it shows no sign of receding as trump prepares for his second year in power, despite intensified rhetoric from some trump allies in recent weeks accusing mueller’s team of bias against the republican president. trump himself seemed to undercut his supporters in an interview last week with the new york times in which he said he expected mueller was “going to be fair.”    russia’s role in the election and the question of possible links to the trump campaign are the focus of multiple inquiries in washington. three committees of the senate and the house of representatives are investigating, as well as mueller, whose team in may took over an earlier probe launched by the u.s. federal bureau of investigation (fbi). several members of the trump campaign and administration have been convicted or indicted in the investigation.  trump and his allies deny any collusion with russia during the campaign, and the kremlin has denied meddling in the election. graham said he still wants an examination of the fbi’s use of a dossier on links between trump and russia that was compiled by a former british spy, christopher steele, which prompted trump allies and some republicans to question mueller’s inquiry.   on saturday, the new york times reported that it was not that dossier that triggered an early fbi probe, but a tip from former trump campaign foreign policy adviser george papadopoulos to an australian diplomat that russia had damaging information about former trump rival hillary clinton.  “i want somebody to look at the way the department of justice used this dossier. it bothers me greatly the way they used it, and i want somebody to look at it,” graham said. but he said the russia investigation must continue. “as a matter of fact, it would hurt us if we ignored it,” he said.</td>\n",
              "      <td>politicsNews</td>\n",
              "      <td>December 31, 2017</td>\n",
              "      <td>1</td>\n",
              "    </tr>\n",
              "    <tr>\n",
              "      <th>3</th>\n",
              "      <td>FBI Russia probe helped by Australian diplomat tip-off: NYT</td>\n",
              "      <td>washington (reuters) - trump campaign adviser george papadopoulos told an australian diplomat in may 2016 that russia had political dirt on democratic presidential candidate hillary clinton, the new york times reported on saturday. the conversation between papadopoulos and the diplomat, alexander downer, in london was a driving factor behind the fbi’s decision to open a counter-intelligence investigation of moscow’s contacts with the trump campaign, the times reported. two months after the meeting, australian officials passed the information that came from papadopoulos to their american counterparts when leaked democratic emails began appearing online, according to the newspaper, which cited four current and former u.s. and foreign officials. besides the information from the australians, the probe by the federal bureau of investigation was also propelled by intelligence from other friendly governments, including the british and dutch, the times said. papadopoulos, a chicago-based international energy lawyer, pleaded guilty on oct. 30 to lying to fbi agents about contacts with people who claimed to have ties to top russian officials. it was the first criminal charge alleging links between the trump campaign and russia. the white house has played down the former aide’s campaign role, saying it was “extremely limited” and that any actions he took would have been on his own. the new york times, however, reported that papadopoulos helped set up a meeting between then-candidate donald trump and egyptian president abdel fattah al-sisi and edited the outline of trump’s first major foreign policy speech in april 2016. the federal investigation, which is now being led by special counsel robert mueller, has hung over trump’s white house since he took office almost a year ago. some trump allies have recently accused mueller’s team of being biased against the republican president. lawyers for papadopoulos did not immediately respond to requests by reuters for comment. mueller’s office declined to comment. trump’s white house attorney, ty cobb, declined to comment on the new york times report. “out of respect for the special counsel and his process, we are not commenting on matters such as this,” he said in a statement. mueller has charged four trump associates, including papadopoulos, in his investigation. russia has denied interfering in the u.s. election and trump has said there was no collusion between his campaign and moscow.</td>\n",
              "      <td>politicsNews</td>\n",
              "      <td>December 30, 2017</td>\n",
              "      <td>1</td>\n",
              "    </tr>\n",
              "    <tr>\n",
              "      <th>4</th>\n",
              "      <td>Trump wants Postal Service to charge 'much more' for Amazon shipments</td>\n",
              "      <td>seattle/washington (reuters) - president donald trump called on the u.s. postal service on friday to charge “much more” to ship packages for amazon (amzn.o), picking another fight with an online retail giant he has criticized in the past.     “why is the united states post office, which is losing many billions of dollars a year, while charging amazon and others so little to deliver their packages, making amazon richer and the post office dumber and poorer? should be charging much more!” trump wrote on twitter.  the president’s tweet drew fresh attention to the fragile finances of the postal service at a time when tens of millions of parcels have just been shipped all over the country for the holiday season.  the u.s. postal service, which runs at a big loss, is an independent agency within the federal government and does not receive tax dollars for operating expenses, according to its website.  package delivery has become an increasingly important part of its business as the internet has led to a sharp decline in the amount of first-class letters. the president does not determine postal rates. they are set by the postal regulatory commission, an independent government agency with commissioners selected by the president from both political parties. that panel raised prices on packages by almost 2 percent in november.  amazon was founded by jeff bezos, who remains the chief executive officer of the retail company and is the richest person in the world, according to bloomberg news. bezos also owns the washington post, a newspaper trump has repeatedly railed against in his criticisms of the news media. in tweets over the past year, trump has said the “amazon washington post” fabricated stories. he has said amazon does not pay sales tax, which is not true, and so hurts other retailers, part of a pattern by the former businessman and reality television host of periodically turning his ire on big american companies since he took office in january. daniel ives, a research analyst at gbh insights, said trump’s comment could be taken as a warning to the retail giant. however, he said he was not concerned for amazon. “we do not see any price hikes in the future. however, that is a risk that amazon is clearly aware of and (it) is building out its distribution (system) aggressively,” he said. amazon has shown interest in the past in shifting into its own delivery service, including testing drones for deliveries. in 2015, the company spent $11.5 billion on shipping, 46 percent of its total operating expenses that year.  amazon shares were down 0.86 percent to $1,175.90 by early afternoon. overall, u.s. stock prices were down slightly on friday.  satish jindel, president of shipmatrix inc, which analyzes shipping data, disputed the idea that the postal service charges less than united parcel service inc (ups.n) and fedex corp (fdx.n), the other biggest players in the parcel delivery business in the united states. many customers get lower rates from ups and fedex than they would get from the post office for comparable services, he said. the postal service delivers about 62 percent of amazon packages, for about 3.5 to 4 million a day during the current peak year-end holiday shipping season, jindel said. the seattle-based company and the post office have an agreement in which mail carriers take amazon packages on the last leg of their journeys, from post offices to customers’ doorsteps. amazon’s no. 2 carrier is ups, at 21 percent, and fedex is third, with 8 percent or so, according to jindel. trump’s comment tapped into a debate over whether postal service pricing has kept pace with the rise of e-commerce, which has flooded the mail with small packages.private companies like ups have long claimed the current system unfairly undercuts their business. steve gaut, a spokesman for ups, noted that the company values its “productive relationship” with the postal service, but that it has filed with the postal regulatory commission its concerns about the postal service’s methods for covering costs. representatives for amazon, the white house, the u.s. postal service and fedex declined comment or were not immediately available for comment on trump’s tweet. according to its annual report, the postal service lost $2.74 billion this year, and its deficit has ballooned to $61.86 billion.  while the postal service’s revenue for first class mail, marketing mail and periodicals is flat or declining, revenue from package delivery is up 44 percent since 2014 to $19.5 billion in the fiscal year ended sept. 30, 2017. but it also lost about $2 billion in revenue when a temporary surcharge expired in april 2016. according to a government accountability office report in february, the service is facing growing personnel expenses, particularly $73.4 billion in unfunded pension and benefits liabilities. the postal service has not announced any plans to cut costs. by law, the postal service has to set prices for package delivery to cover the costs attributable to that service. but the postal service allocates only 5.5 percent of its total costs to its business of shipping packages even though that line of business is 28 percent of its total revenue.</td>\n",
              "      <td>politicsNews</td>\n",
              "      <td>December 29, 2017</td>\n",
              "      <td>1</td>\n",
              "    </tr>\n",
              "    <tr>\n",
              "      <th>...</th>\n",
              "      <td>...</td>\n",
              "      <td>...</td>\n",
              "      <td>...</td>\n",
              "      <td>...</td>\n",
              "      <td>...</td>\n",
              "    </tr>\n",
              "    <tr>\n",
              "      <th>44893</th>\n",
              "      <td>McPain: John McCain Furious That Iran Treated US Sailors Well</td>\n",
              "      <td>21st century wire says as 21wire reported earlier this week, the unlikely  mishap  of two us naval vessels straying into iranian waters   just hours before the president s state of the union speech, followed by the usual parade of arch-neocons coming on tv in real time to declare the incident as  an act of aggression  by iran against the united states   is no mere coincidence.24 hours after the incident, the iranians returned all 11 us sailors, unharmed and in good spirits. the only remaining casualty from this event was an incident of a common condition in washington known as  pre-traumatic stress disorder    suffered by a certain us senator was mortified by the uneventful outcome which followed daniel mcadams ron paul institute  the two us navy riverine command boats intercepted in iranian territorial waters yesterday were sent on their way along with the crew of 10 us sailors after brief detention on iranian soil.according to news reports, the well-armed warships either suffered mechanical or navigational difficulties which caused them to enter iranian territory (although it may well have been a game of cat-and-mouse to test the iranian response). the us sailors were apparently treated well, enjoyed what appeared a decent meal in relaxed surroundings, and in the end apologized for the mistake and praised their treatment by the iranians. thanks to president obama s policy shift on iran toward engagement and away from isolationism, secretary of state john kerry was able to telephone his iranian counterpart mohammad zarif and quickly defuse what just months ago would have been a far more serious situation.this should be a good-news story about the value of diplomacy and reducing tensions with adversaries, but sen. john mccain (r-az) was having none of it. that kerry expressed his appreciation to the iranians for swiftly releasing the american sailors only showed the obama administration s  craven desire to preserve the dangerous iranian nuclear deal at all costs evidently knows no limit,  said mccain in a press release.mccain was furious that  obama administration officials seem to be falling over themselves to offer praise for iran s graciousness  and was outraged that the iranians dared interfere with the actions of us military vessels operating in iranian waters.in the world of john mccain, only the united states has the right to national sovereignty. the us military has the right to act anywhere and everywhere and the rest of the world dare not raise a question.according to mccain,  sovereign immune naval vessels are exempt from detention, boarding, or search. their crews are not subject to detention or arrest. imagine the tune mccain would have been singing if a well-armed iranian naval vessel had been spotted in us territorial waters off the coast of new york. would he have so rigorously condemned any us interference in the actions of iran s sovereign naval vessels?leave it to some clever twitterers to post an example of the difference between us and iranian detention.copyright   2016 by ronpaul institute. permission to reprint in whole or in part is gladly granted, provided full credit and a live link are given.read more john mccain news at: 21st century wire mcpain files</td>\n",
              "      <td>Middle-east</td>\n",
              "      <td>January 16, 2016</td>\n",
              "      <td>0</td>\n",
              "    </tr>\n",
              "    <tr>\n",
              "      <th>44894</th>\n",
              "      <td>JUSTICE? Yahoo Settles E-mail Privacy Class-action: $4M for Lawyers, $0 for Users</td>\n",
              "      <td>21st century wire says it s a familiar theme. whenever there is a dispute or a change of law, and two tribes go to war, there is normally only one real winner after the tribulation  the lawyers. ars technicain late 2013, yahoo was hit with six lawsuits over its practice of using automated scans of e-mail to produce targeted ads. the cases, which were consolidated in federal court, all argued that the privacy rights of non-yahoo users, who  did not consent to yahoo s interception and scanning of their emails,  were being violated by a multi-billion dollar company.now, lawyers representing the plaintiffs are singing a different tune. last week, they asked us district judge lucy koh to accept a proposed settlement (pdf). under the proposal, the massive class of non-yahoo users won t get any payment, but the class lawyers at girard gibbs and kaplan fox intend to ask for up to $4 million in fees. (the ultimate amount of fees will be up to the judge, but yahoo has agreed not to oppose any fee request up to $4 million.)while users won t get any payment, yahoo will change how it handles user e-mails but it isn t the change that the plaintiffs attorneys were originally asking for. yahoo won t stop scanning e-mails. instead, the company has agreed to make a technical change to when it scans e-mails. in the settlement (pdf), yahoo has agreed that e-mail content will be  only sent to servers for analysis for advertising purposes after a yahoo mail user can access the email in his or her inbox. the settlement deal looks pretty similar to what yahoo had argued it did in the first place continue this story at ars technicaread more nsa news at: 21st century wire nsa files</td>\n",
              "      <td>Middle-east</td>\n",
              "      <td>January 16, 2016</td>\n",
              "      <td>0</td>\n",
              "    </tr>\n",
              "    <tr>\n",
              "      <th>44895</th>\n",
              "      <td>Sunnistan: US and Allied ‘Safe Zone’ Plan to Take Territorial Booty in Northern Syria</td>\n",
              "      <td>patrick henningsen  21st century wireremember when the obama administration told the world how it hoped to identify 5,000 reliable non-jihadist  moderate  rebels hanging out in turkey and jordan, who might want to fight for washington in syria? after all the drama over its infamous  train and equip  program to create their own arab army in syria, they want to give it another try.this week, pentagon officials announced their new plan to train up to 7,000 more  moderate  fighters, but this time the project would take place inside syria (and to hell with international law).we re told that this was requested by ankara, and with all nato allies singing the same hymn   claiming that this new effort will help in securing turkey s porous border with syria, or so the story goes. washington s political cover for this is fashioned from the popular post-paris theme: to protect civilized europe from invading hordes and the terrorists who hide among them, as stated in the wall street journal: the program would address part of the tense and long-running dialogue between washington and ankara over sealing the border, which western governments have long complained is an avenue for extremists to leave syria and travel internationally, the timing of this announcement seemed uncanny against the backdrop of an unlikely isis  suicide bomb  terrorist attack, in turkey, of all places, where the victims just happened to be 14 german tourists, feeding perfectly into europe s new binary fear set of terrorism and immigration. shades of gladio, undoubtedly (but you won t see western journalists entertaining such conspiracy theories).our friends at nation builders inc are banking on the global public suffering from syria fatigue, but now is the time to really pay attention. the west s real agenda for the region is starting to unfold despite all of us-led coalition s scandals, lies, epic failures, false flags and official conspiracy theories, the mainstream narrative on syria persists. it s on our tv screens and in our newspapers constantly   from los angeles to london, from paris to riyadh, every politician and pundit seems to have an opinion about,  what to do with syria?  everyone, except the syria people  themselves, who like the people of iraq, libya, afghanistan, yemen and ever other country that s found itself under the cleaver of western interests   are never afforded any say in their own destiny. as is tradition in washington, london and paris, the only syrian voices which count are the ones who have been hand-picked by western technocrats and approved by the saudi royal family to form their ever-changing  recognized  government-in-exile, the syrian national council. currently, that could be riad hijab,  george sabra or khaled khoja. next week, it could be three others, depending on who has fallen in, or out of favor with washington or riyadh.to anyone who was listening close enough early on in the conflict, you would have heard determined members of the western-backed  syrian opposition  admitting how they would,  make a deal with the devil if that s what it takes to win power.  four years later, we now see that is exactly what happened, but whether you believe that this  devil is us-led coalition, or terrorist armies fighting groups (or both) might be cause for debate. others will argue over which is the bigger devil   is it the wahabist-salafist terrorist brigades like al nusra front and islamic state, or is it the west and its gcc partners?the unfortunate reality is that these two devils are not mutually exclusive. the west and its partners not only created this  terror  crisis, but did so with the intent of unveiling a grand  solution  to the problem.plans a-zthe terrorist enclave in syria is designed for purpose   to implant a hostile metastasis right in the middle of the very territory which neocolonial powers plan to tear away from the barely sovereign nations of iraq and syria.since 2011, the western-led cartel has deployed various levels of international subterfuge in syria, starting with plan a: the arab spring method   igniting a popular street uprising that might capture the world s attention for 15 minutes   enough to generate some high-quality evocative imagery and a social media storm to carry memes of liberty around the globe, inspiring the people on the streets (and on twitter) to demand  change . their cries for freedom would then be backed up by the us state department, along with its functionaries at human rights watch and amnesty international america, and other open society institute-funded ngos and  human rights  organizations. obviously, this did not work. next, plan b: the political opposition suddenly transcended into an armed, paramilitary opposition, followed by brutal violence and killing on both sides. the us and its allies wasted no time, pledging weapons, training, cash and logistical support to the armed opposition. the west set up its own parallel government for syria abroad, but it failed to gain any traction with the syria people. then came plan c: this  opposition  would be quickly overrun and absorbed into a massive array of mostly foreign jihadi and mercenary soldiers of misfortune and other assorted terrorists. this fed into an already established  war on terror  western narrative. now the west had a familiar entry point into the fight. the washington-london-paris-tel-aviv-riyadh-doha-ankara axis hoped that these terrorists would do the job of overthrowing the government of bashar al assad in damascus, and collapse the country into a spirally pit of sectarian and tribal chaos. who could blame them? after all, it worked in libya in late 2011.fast forward to 2016, having failed to overthrow assad and implode the nation-state of syria, the men and women of nation builders inc and their muscles in brussels (nato), are quickly moving to plan d: take territory. that s not to say plans a through d weren t always in the schematics   they certainly were, and further back than many people would dare to speculate.we now know from wikileaks cables that this operation goes back to at least 2006, but in reality, it s probably much earlier than that. taking the long view of history and the audacious building, and rebuilding, of a euro-centric empire in the middle east, one could say the process began the day the sykes-picot agreement was signed in 1916. concealed between those post-colonial lines drawn exactly 100 years ago, was the latent potential for the very conflicts and uncivil wars we are seeing today. if those borders are redrawn once again, you can be certain that they will be drawn by the very same powers involved a century ago. whatever the arrangement, it will be to weaken, not strengthen the region, and certainly not strengthen any of the present nation states in the region, especially syria. proprietary powers will want any new states to be stuck in a perpetual state of neocolonial dependency, with an emphasis on financial and security dependency.mice and men21wire was one of the first news sources to warn about washington s initial impulse back in 2014 when it began calling for a  no fly zone  in northern syria. it was clear that a problem, reaction, solution dialectic was in play, with isis being the object of the public s reaction. that plan might have come to fruition in the fall of 2015, but a funny thing happened on the way to the un general assembly in new york city. later that week, russia announced that it would be inserting itself, and its air force, into the syrian quagmire, and with that, thwarted any master plan for a us-turkey (nato) controlled no fly zone along the turkish-syrian border. suffice to say, that russia already knew nato s next move and acted accordingly, and with purpose.when asked two days ago about the prospect of the washington dc latest brainchild, train and equip 2.0, this time inside syria, here were my initial thoughts: we now know why, and it has more to do with what s beneath the sand than what s on top.as any good pirate will tell you   if you want to claim your share of the booty, you have to do your share of the killing. the truth about  train and equip the previous  train and equip  program ended with washington s military brass paraded in front of the senate armed services committee, before being roundly lambasted for failing to train even a handful of  moderate rebels , this after being awarded $500 million by the us taxpayer to get er done. when originally announced amid much fanfare, the public were told that the us government, in conjunction with the cia, would be arming and training  moderate  militants in turkey, jordan or at a base in saudi arabia   before sending them to fight inside syria. washington claims that these new trainees were meant to fight isis, and not the syrian government forces, but judging by the unwavering  regime change  rhetoric from the west, it would be highly naive to think that all this was strictly for isis.nine months into the train and equip project, us army gen. lloyd austin iii, acknowledged in sept. 2015 that they had only managed to get  four or five  on the battlefield by then. not one member of the media challenged this statement, probably because most were happy with the answer given   one which gave any hawkish critics of the obama administration the pound of flesh they wanted and served to only intensify more calls before the new year for us  boots on the ground  in syria. doves loved it because it seemed to prove that backing proxies doesn t work, and that the best solution was to call it quits. for the sanguine mainstream media, it served-up that all-too familiar government narrative, of a  cock-up, not a cover-up.  this is the media s natural default position. in other words,  well, it didn t work out, but that s nothing new with our incompetent government. nothing to see here, move along.  to ask how the money disappeared, or really inquire into how it costs $500 million to train only five men   apparently was way too much work for the media. not one  journalist  stopped to ask, if only 5 fighters were trained and dispatched, then what happened to the half a billion dollars?the real answer to that question should be self-evident to anyone studying reports on the ground in syria, and is way too uncomfortable for the us media to stomach   that the us  train and equip  program provided the necessary official cover to allow the prosecution of a dirty war under the table. it wasn t a failure like fall guy gen. lloyd austin will have you believe, it was a success.judging by the proliferation of heavy weaponry and other lethal arms that have made it into the hands of al qaeda in syria (al nusra front), isis, jaysh al islam and others   it s clear that uncle sam s generous donation of $500 million has definitely been used to equip, if not train, those  rebels  in syria.middle east commentator and analyst sharmine narwani explains the west s perennial dilemma when trying to identify who their  moderates  are in syria: for years, washington has insisted there are armed  moderate  groups in syria, but have gone to great lengths to avoid naming these  moderates.  why? because if moderates were named and identified, the us would have to be very, very certain that no past, present or future  atrocity video  would surface to prove otherwise. and the us could not guarantee this with any of the groups they have armed, trained or financed in syria over the past five years. the next  train and equip  round will be more focused, and will be used to secure the following  the map above is from july 2015, but still represents the current military chessboard in syria.safe zone =  sunnistan somehow it feels like 1998 all over again, with bad memories of the kla in kosovo, imported jihadist fighters in bosnia, and nato lording over a newly balkanized region.when you hear us officials like john mccain or clueless republican presidential candidates like marco rubio or carly fiorina, all crowing for a  safe zone  in northern syria, this is what they are referring to (see map above). their  safe zone  just so happens to be in the exact same area where isis is currently holding court. it s a  safe zone  alright, but not for refugees and  syrians fleeing the evil bashar al assad    rather, the  safe zone  will be for an array of  rebel  and terrorist fighters, part of a defacto sunni state-lette in waiting.so the us-led coalition s  safe zone  is the very caliphate that americans are decrying.for anyone requiring proof that such a grand chessboard is in play in syria, they need look no further than a set of us airstrikes that took place before christmas. on december 6, 2015,  us fighter bombers struck a syrian military base located in the village of ayyash in deir ezzor province, east of raqqa, which killed 3 syrian arab army (saa) soldiers and wounded additional others. naturally, the pentagon swiftly denied that any such attack took place. what happened after this incident was extremely telling, as explained by global affairs analyst mike whitney from counterpunch magazine: it s also worth noting, that according to south front military analysis, the us bombing raid coincided with a  a full-scale isis offensive on the villages of ayyash and bgelia.  in other words, the us attack provided sufficient air-cover for isis terrorists to carry out their ground operations. was that part of the plan or was it merely a coincidence? so the us air force was coordinating with isis boots on the ground, to achieve a common military objective. but it didn t end there. less than 24 hours after the attack, us warplanes bombed the village of al-khan in north-eastern syria killing 26 syrian civilians including at least four women and seven children and four women. the message the us military is sending with these lethal attacks is that it wants to control the air-space over east syria where it plans to remove isis and establish a de facto sunni state consistent with its scheme to break syria and iraq into smaller cantons governed by local warlords, islamic fanatics, and us puppets. also taking place at the same moment on dec 6th, was turkey s quiet little invasion into northern iraq, sending hundreds of troops and at least 20 tanks into territory north of mosul, right between the kurds and isis. it should be noted that this illegal incursion by nato member turkey was not approved by the iraqi government in baghdad, and iraqi pm haider al-abadi called for turkey to  immediately withdraw its troops.  judging by washington s silence on the matter, it s obvious that the us gave turkey its full blessing. here, zero hedge astutely points out the obvious: most importantly of all, right on what al-araby al-jadeed claims is the smuggling route for illegal isis crude into turkey from iraq.  not surprisingly, turkey s sudden move also came at the same time that russia began to publicly expose turkey s clandestine role in facilitating the isis oil trade, as well as launching airstrikes to destroy isis oil convoys moving from syria into turkey. and then turkish leader recep tayyip erdo an (photo, left) places his military assets at the very location where stolen isis oil makes its way from iraq into turkey? hardly a coincidence.make no mistake, both ends of nato s military axle, the united states and turkey, along with their saudi-backed boots on the ground in isis and al nusra   have each made critical strategic moves in unison, and with a specific military purpose each time, nudging towards securing territory. once each key piece is finally in position, all that is required is a new  crisis , either in the region, or in europe, or in america   to allow the axis powers to move in quickly and take what is needed to implement the next phase of the game, whether that s creating a kurdish canton, or a sunni state-lette. such moves will rarely be covered by the western international media.to be perfectly clear, the terms  sunni  and  shia  are the favored sectarian lexicon used by nation builders inc and its international partners in riyadh and tel aviv. my intention here is not to reduce the muslim world down to this paradigm, but the architects of instability will use these terms, over and over   in their attempt to both marginalize and dehumanized muslims for their own selfish ends.what s the  safe zone  for? as the us-led coalition steps up its 18 month-long punch  n judy air operation to supplant isis from raqqa, those western-backed jihadis will later require a safe corridor to flee but still remain connected to their turkish supply lines. washington s  safe zone  would also provide a much-needed safe haven for  rebels  who have been sent packing by the syrian government from towns like homs and others, as part of a painstaking disarming and reconciliation process between the assad government and  opposition  rebels who are willing to participate in the program. once the nato-gcc axis has established a mini protectorate inside of syria, this will provide everything isis, al nusra, ahrar al-sham, turkmens et all will need; a secure launching pad for incursions further inside syria   which will certainly guarantee a longer, protracted conflict in syria   and beyond.this little sunni wedge is also conveniently located next to a large rebel-terrorist contingent in syria s northwestern idlib governorate (province). syria s border with turkey has been porous from the beginning of the conflict, so the proposed  safe zone  will allow turkey to maintain this status quo   where it has been continuously allowing the free-flow of weapons, rebels and terrorist fighters alike, along with oil, narcotics and human trafficking   to move freely through its southern border with syria.if  regime  change  rhetoric is anything to go by, along with turning a blind eye to nato member turkey s role in facilitating supply lines and safe passage for al qaeda and isis, then washington s agenda is fairly transparent here. if they can establish a  internationally recognized  safe zone and a no-fly zone on top of it, central planners believe they will have the platform they need to eventually destroy damascus, install their own western puppet, and then carve up syria and northern iraq accordingly. isis rat-lines: black market oil has been a key component to carrying on both conflicts in syria, and iraq.for the architects of instability in washington, one crucial benefit of carving out sunni territory in both northern and eastern syria is that available oil will help fund all of their paramilitary and terrorist needs   making it sustainable. to guarantee this uninterrupted income stream from black market oil which is presently making its way out of syria and into turkey and via kurdistan, help is required from the kurdish regional government (krg) and other stakeholders, including the british-turkish firm genel energy, just one firm who is providing the end-run to market for illicit isis oil. ditto for a key mover and shaker in raqqa s new rockefeller class, bilal erdogan, the son of turkish president, who according to numerous recent reports has already amassed a small fortune from the lucrative oil-for-terror trade.this is a problem, but one which washington, london and paris are not overly concerned with, much less upset about. iraqi, kurdish and turkish opposition officials have accused turkish governments and the krg of deliberately allowing some of these smuggling operations to take place.even as provisional state-lettes and cantons are conjured around it, there is no guarantee that greater kurdistan will ever see the light of day if nation builders inc having anything to say bout it. the promise of greater kurdistan is as important to neocolonialists, than the reality of a greater kurdistan. turkey also has its own interests and ambitions, and a greater kurdistan is not compatible with them. iraq is not crazy about the idea either, because of obvious financial and energy resource reasons. so they remain in limb indefinitely, even as smaller quasi-kurdish entities sprout up around the krg. turkey has its own ongoing  kurdish problem  within turkish borders, so ankara will naturally view any expressions of kurdish autonomy around it as a threat and potential inspiration for international kurdish solidarity. ruling over the kurds means keeping them divided, and playing them off against their neighbors.there are those within the turkish establishment who believe there are old scores still unsettled   in reclaiming turk territory in both syria and iraq.see also: special report: isis oil? follow the money (back to europe)here is where sunnistan proper can emerge, coming into its own once set pieces are in place in iraq and across kurdistan, as mike whitney explained: so it looks like an agreement has been struck between turkey, the krg and the united states to seize parts of northern iraq and eastern syria to create a de facto sunni state that will be jointly-controlled by ankara and washington.  it also looks like obama has agreed to use dodgy jihadi-proxies (aka terrorists) to work alongside us special forces to carry out future military operations.  so while the effort to remove assad has been temporarily put on the backburner, the determination to destroy syria is as strong as ever.  another dismembered part of old syria and iraq which central planners are hoping to hack-off is an area called rojava (see map above), or  western kurdistan . this region in northern syria, formerly known as syrian kurdistan, gained its autonomy in november 2013 as part of the ongoing rojava revolution. the kurdish defense forces here are known as the ypg (people s defense units) and are not on friendly footing with neighboring turkey, for a number of reasons, not least of all because ypg defense forces present resistance to both al nusra and isis encroachments into all three rojava cantons. for turkey, this is bad for business. how rojava will factor into washington s plans is not clear yet, but it occupies the most strategic squares on the chessboard.make no mistake, the history s actors are all in for this plan. do not be fooled by talk of  peace and stability  or humanitarian platitudes from western leaders, the un, or the fair weather international community.another indication that these plans have the full backing of the neoconservative illiterati, and israel too, was pnac walrus and former us ambassador to the un john bolton s recent article in the establishment s daily journal of political posterity, the new york times, where he states: today s reality is that iraq and syria as we have known them are gone. the islamic state has carved out a new entity from the post-ottoman empire settlement, mobilizing sunni opposition to the regime of president bashar al-assad and the iran-dominated government of iraq. also emerging, after years of effort, is a de facto independent kurdistan. central planners will happily frame this geopolitical scenario within the preferred theme of sunni vs shia  sectarian strife  in the region, which just happens to suit the interests and desires of both saudi arabia and israel. bolton confirms this: if, in this context, defeating the islamic state means restoring to power mr. assad in syria and iran s puppets in iraq, that outcome is neither feasible nor desirable. rather than striving to recreate the post-world war i map, washington should recognize the new geopolitics. the best alternative to the islamic state in northeastern syria and western iraq is a new, independent sunni state. not so fast mr. ambassador. the islamic state is the sunni state.so for all intents and purposes, he s calling for the establishment of the caliphate (funny how this goes right over the heads of  conservatives ). this is just one of many geostrategic moves which will guarantee instability and military conflict in the region for another 100 years, as well as provide a timely entr e through to azerbaijan and into iran, and later towards the eurasian heartland of dagestan (russia s emerging energy center and geographic underbelly).in the meantime, expect to be pelted with endless propaganda about starving children in one town or another, changing week to week   with the usual slogans like,  we must act now! , and blaming bashar al assad for the suffering of his people. it s already wearing thin.until the us and its nato-gcc axis stops flooding syria and the region with weapons and terrorist fighters, and continues its policy of toppling secular nation-states   then any attempt at holding peace talks will end up back at square one, and stand as another exercise in futility.if the syrian conflict has been good for one thing (and that s not to say it has), it s that the scripted western narrative, in all of its variations, has finally hit the wall of truth.***author patrick henningsen is a writer, lecturer and global affairs analyst for international tv and radio. he is also the founder and co-editor of 21stcenturywire.com.read more syria news at: 21st century wire syria files</td>\n",
              "      <td>Middle-east</td>\n",
              "      <td>January 15, 2016</td>\n",
              "      <td>0</td>\n",
              "    </tr>\n",
              "    <tr>\n",
              "      <th>44896</th>\n",
              "      <td>How to Blow $700 Million: Al Jazeera America Finally Calls it Quits</td>\n",
              "      <td>21st century wire says al jazeera america will go down in history as one of the biggest failures in broadcast media history.ever since the us and its allies began plotting to overthrow libya and syria, al jazeera has deteriorated from a promising international news network in 2003   into what it has become in 2016   a full-blown agit prop media shop for the us state department and the pentagon. in fact, us military central command (centcom) for the middle east region is located in qatar s capital of doha, conveniently located just down the road from al jazeera s headquarters. nice and cozy.al jazeera s role in promoting  regime change  and the destablization of syria is now recorded history, as are its many shameful exhibitions of media fakery.the qatari royals tried to expand propaganda operations into north america, but no matter how much money they threw at it (and those royals just love throwing money at things to try and get them to work), no one cared about it, much less watched it. i know this will be a massive disappointment for everyone here who has worked tirelessly for our long-term future. the decision that has been made is in no way because ajam has done anything but a great job,  reads a company email from ceo al anstey, obtained by politico.indeed, they tried everything it seems, just short of paying americans to watch their programs al jazeera america to close down https://t.co/emfjbw9uc1 pic.twitter.com/hdea8ujtpt  al jazeera america (@ajam) january 13, 2016in 2012, the qatari-owned al jazeera purchased current tv from al gore for an inflated $500 million. wait, it gets worse money for nothing: gore got fat off the ajam deal.in addition to the $500 million which doha blew on buying gore s lemon, current tv, the qataris have spent at least $50 million per year between 2012   2015, along with many millions spent on advertising ajam on other network slots, online ads, along with billboards and print media promotions. this was the qataris   easy  ticket on to us cable and satellite networks. boy, did gore pull a fast one there.  in total, you would be looking at $700 million for the whole party. at its apex, ajam would be lucky to pull in 30,000 viewers during prime time   which really amounts to a  nothing  market share.with all that money, and considering the hundreds of staff and  media executives  and producers they employed, it s safe to say that someone(s) did not have a clue what they were doing.what a colossal joke.on the bright side, the qataris can always blame the collapse in oil prices for their lack of spare cash to fund their propaganda mills.read more mainstream media epic fails at: 21st century wire msm watch</td>\n",
              "      <td>Middle-east</td>\n",
              "      <td>January 14, 2016</td>\n",
              "      <td>0</td>\n",
              "    </tr>\n",
              "    <tr>\n",
              "      <th>44897</th>\n",
              "      <td>10 U.S. Navy Sailors Held by Iranian Military – Signs of a Neocon Political Stunt</td>\n",
              "      <td>21st century wire says as 21wire predicted in its new year s look ahead, we have a new  hostage  crisis underway.today, iranian military forces report that two small riverine u.s. navy boats were seized in iranian waters, and are currently being held on iran s farsi island in the persian gulf. a total of 10 u.s. navy personnel, nine men and one woman, have been detained by iranian authorities. navy strayed: u.s. navy patrol boat in the persian gulf (image source: usni)according to the pentagon, the initial narrative is as follows: the sailors were on a training mission around noon et when their boat experienced mechanical difficulty and drifted into iranian-claimed waters and were detained by the iranian coast guard, officials added. the story has since been slightly revised by white house spokesman josh earnest to follow this narrative:the 2 boats were traveling en route from kuwait to bahrain, when they were stopped and detained by the iranians.according to usni, search and rescue teams from the harry s. truman strike group were scrambled to aid the crew but stopped short after the crew was taken by the iranians. we have been in contact with iran and have received assurances that the crew and the vessels will be returned promptly,  pentagon spokesman peter cook told ap. according to persian gulf tv: farsi island is one of the iranian islands in the persian gulf, bushehr province of iran. there is an irgc navy base on this island. the island has an area of about 0.25 km  and is completely restricted to public, due to top secret governmental activities. according to nbc news, u.s. state department is in touch with tehran officials and the iranians recognize that the u.s. navy straying off course was a mistake, and that the sailors will be released  within hours.  war inc: cnn s wolf blitzer wasted no time in ramping-up talk of military tension with israeli-financed neocon senator tom cotton.neocon stuntalready, the u.s. media, including cnn and fox, are running with the talking point that,  this could not have come at a worse time for president obama right before tonight s state of union speech, when he s trying to prove to the american people that iran is a country that can be trusted to implement the historic nuclear deal. this latest naval  controversy  also comes days before the implementation phase of the iran nuclear deal. to say this is a coincidence might be naive.that said, could gop and israel-aligned members of the pentagon or intelligence establishment have helped to engineer today s bizarre  mini-crisis  in order to help weaken u.s.-iran relations, and by extension, obama s controversial iranian nuclear deal?this looks likely to be the case, as evidenced by the quick appearance of the israel lobby-sponsored, pro-war u.s. senator tom cotton (r), placed by cnn to direct aggressive u.s. military talking points live on air as the story broke today. cotton (photo, left) immediately called the event  hostile  and blamed iran for the u.s. boat drifting into iranian waters, and then blamed the  crisis  on president obama, who he claims,  has emboldened the iranian aggression. cotton then goes on to tell a giant lie, on which his media handler, cnn s wolf blitzer, does not even blink, much less challenge cotton s imaginary statement: the iranians, who are largely responsible for killing our (american) soldiers in iraq and afghanistan. cotton then went on to threaten iran, saying that: these sailors and both vessels  need to be immediately released. if they are not released, then the iran (nuclear) deal should not go forward, and military force will be on the table to retaliate for this act of aggression.  cotton then proceeded to give a veiled (nuclear?) threat to iran, saying that,  all (military) options should be on the table.  would washington s top operatives go so far as to engineer or exacerbate an international crisis such as this   by dispatching the boats off course, knowing full-well that iran would not harm u.s. personnel, but using the incident to injure a lame duck? the answer is  yes , and they ve done it before in 1979, 52 american diplomats and citizens were held hostage for 444 days in what became known as the iranian hostage crisis, which just happened to take place during a us presidential election cycle, with then president jimmy carter (d) running for reelection against challenger ronald reagan (r). the crisis, including a horrific failed rescue attempt, was used against carter in the media. according to reports at the time reagan campaign operatives had managed to do a backdoor deal with the elements of the new iranian regime to  hold-off  releasing the hostages until after the election. in the end, reagan won and took credit for that  victory .not surprisingly, at the end of his prearranged cnn segment, cotton invoked the  feckless foreign policy  of jimmy carter which  caused  the 1979 iran hostage crisis, and compared that to president obama s current policy.of all the u.s. officials cnn could have brought in on  short notice , they chose senator tom cotton, the most hawkish and closest aligned to israel. clearly, this looks like a neocon stunt.stay tuned for more updates.read more iran news at: 21st century wire iran files</td>\n",
              "      <td>Middle-east</td>\n",
              "      <td>January 12, 2016</td>\n",
              "      <td>0</td>\n",
              "    </tr>\n",
              "  </tbody>\n",
              "</table>\n",
              "<p>44898 rows × 5 columns</p>\n",
              "</div>"
            ],
            "text/plain": [
              "                                                                                       title  ... target\n",
              "0      As U.S. budget fight looms, Republicans flip their fiscal script                       ...  1    \n",
              "1      U.S. military to accept transgender recruits on Monday: Pentagon                       ...  1    \n",
              "2      Senior U.S. Republican senator: 'Let Mr. Mueller do his job'                           ...  1    \n",
              "3      FBI Russia probe helped by Australian diplomat tip-off: NYT                            ...  1    \n",
              "4      Trump wants Postal Service to charge 'much more' for Amazon shipments                  ...  1    \n",
              "...                                                                      ...                  ... ..    \n",
              "44893  McPain: John McCain Furious That Iran Treated US Sailors Well                          ...  0    \n",
              "44894  JUSTICE? Yahoo Settles E-mail Privacy Class-action: $4M for Lawyers, $0 for Users      ...  0    \n",
              "44895  Sunnistan: US and Allied ‘Safe Zone’ Plan to Take Territorial Booty in Northern Syria  ...  0    \n",
              "44896  How to Blow $700 Million: Al Jazeera America Finally Calls it Quits                    ...  0    \n",
              "44897  10 U.S. Navy Sailors Held by Iranian Military – Signs of a Neocon Political Stunt      ...  0    \n",
              "\n",
              "[44898 rows x 5 columns]"
            ]
          },
          "metadata": {
            "tags": []
          }
        }
      ]
    },
    {
      "cell_type": "code",
      "metadata": {
        "colab": {
          "base_uri": "https://localhost:8080/",
          "height": 120
        },
        "id": "zQFtGGjaJJEb",
        "outputId": "9bc37517-90e2-465c-e0e1-b1b4613bd36b"
      },
      "source": [
        "display(df.text[0])"
      ],
      "execution_count": 85,
      "outputs": [
        {
          "output_type": "display_data",
          "data": {
            "application/vnd.google.colaboratory.intrinsic+json": {
              "type": "string"
            },
            "text/plain": [
              "'washington (reuters) - the head of a conservative republican faction in the u.s. congress, who voted this month for a huge expansion of the national debt to pay for tax cuts, called himself a “fiscal conservative” on sunday and urged budget restraint in 2018. in keeping with a sharp pivot under way among republicans, u.s. representative mark meadows, speaking on cbs’ “face the nation,” drew a hard line on federal spending, which lawmakers are bracing to do battle over in january. when they return from the holidays on wednesday, lawmakers will begin trying to pass a federal budget in a fight likely to be linked to other issues, such as immigration policy, even as the november congressional election campaigns approach in which republicans will seek to keep control of congress. president donald trump and his republicans want a big budget increase in military spending, while democrats also want proportional increases for non-defense “discretionary” spending on programs that support education, scientific research, infrastructure, public health and environmental protection. “the (trump) administration has already been willing to say: ‘we’re going to increase non-defense discretionary spending ... by about 7 percent,’” meadows, chairman of the small but influential house freedom caucus, said on the program. “now, democrats are saying that’s not enough, we need to give the government a pay raise of 10 to 11 percent. for a fiscal conservative, i don’t see where the rationale is. ... eventually you run out of other people’s money,” he said. meadows was among republicans who voted in late december for their party’s debt-financed tax overhaul, which is expected to balloon the federal budget deficit and add about $1.5 trillion over 10 years to the $20 trillion national debt. “it’s interesting to hear mark talk about fiscal responsibility,” democratic u.s. representative joseph crowley said on cbs. crowley said the republican tax bill would require the  united states to borrow $1.5 trillion, to be paid off by future generations, to finance tax cuts for corporations and the rich. “this is one of the least ... fiscally responsible bills we’ve ever seen passed in the history of the house of representatives. i think we’re going to be paying for this for many, many years to come,” crowley said. republicans insist the tax package, the biggest u.s. tax overhaul in more than 30 years,  will boost the economy and job growth. house speaker paul ryan, who also supported the tax bill, recently went further than meadows, making clear in a radio interview that welfare or “entitlement reform,” as the party often calls it, would be a top republican priority in 2018. in republican parlance, “entitlement” programs mean food stamps, housing assistance, medicare and medicaid health insurance for the elderly, poor and disabled, as well as other programs created by washington to assist the needy. democrats seized on ryan’s early december remarks, saying they showed republicans would try to pay for their tax overhaul by seeking spending cuts for social programs. but the goals of house republicans may have to take a back seat to the senate, where the votes of some democrats will be needed to approve a budget and prevent a government shutdown. democrats will use their leverage in the senate, which republicans narrowly control, to defend both discretionary non-defense programs and social spending, while tackling the issue of the “dreamers,” people brought illegally to the country as children. trump in september put a march 2018 expiration date on the deferred action for childhood arrivals, or daca, program, which protects the young immigrants from deportation and provides them with work permits. the president has said in recent twitter messages he wants funding for his proposed mexican border wall and other immigration law changes in exchange for agreeing to help the dreamers. representative debbie dingell told cbs she did not favor linking that issue to other policy objectives, such as wall funding. “we need to do daca clean,” she said.  on wednesday, trump aides will meet with congressional leaders to discuss those issues. that will be followed by a weekend of strategy sessions for trump and republican leaders on jan. 6 and 7, the white house said. trump was also scheduled to meet on sunday with florida republican governor rick scott, who wants more emergency aid. the house has passed an $81 billion aid package after hurricanes in florida, texas and puerto rico, and wildfires in california. the package far exceeded the $44 billion requested by the trump administration. the senate has not yet voted on the aid. '"
            ]
          },
          "metadata": {
            "tags": []
          }
        }
      ]
    },
    {
      "cell_type": "markdown",
      "metadata": {
        "id": "BP3VwVS4U0TT"
      },
      "source": [
        "## Example"
      ]
    },
    {
      "cell_type": "code",
      "metadata": {
        "colab": {
          "base_uri": "https://localhost:8080/"
        },
        "id": "091ln6xpJK5S",
        "outputId": "d7e1b995-c4a5-4438-b6aa-78c725dbdc3e"
      },
      "source": [
        "x = ['Hi this is Gaurav','Gaurav and Gaurav is cool']\n",
        "v = CountVectorizer()\n",
        "v.fit(x)"
      ],
      "execution_count": null,
      "outputs": [
        {
          "output_type": "execute_result",
          "data": {
            "text/plain": [
              "CountVectorizer(analyzer='word', binary=False, decode_error='strict',\n",
              "                dtype=<class 'numpy.int64'>, encoding='utf-8', input='content',\n",
              "                lowercase=True, max_df=1.0, max_features=None, min_df=1,\n",
              "                ngram_range=(1, 1), preprocessor=None, stop_words=None,\n",
              "                strip_accents=None, token_pattern='(?u)\\\\b\\\\w\\\\w+\\\\b',\n",
              "                tokenizer=None, vocabulary=None)"
            ]
          },
          "metadata": {
            "tags": []
          },
          "execution_count": 53
        }
      ]
    },
    {
      "cell_type": "code",
      "metadata": {
        "colab": {
          "base_uri": "https://localhost:8080/"
        },
        "id": "q7VqO5FqJK8i",
        "outputId": "17c93fe9-799e-4c7d-ccd0-e45182000d10"
      },
      "source": [
        "arr = v.transform(x)\n",
        "arr"
      ],
      "execution_count": null,
      "outputs": [
        {
          "output_type": "execute_result",
          "data": {
            "text/plain": [
              "<2x6 sparse matrix of type '<class 'numpy.int64'>'\n",
              "\twith 8 stored elements in Compressed Sparse Row format>"
            ]
          },
          "metadata": {
            "tags": []
          },
          "execution_count": 54
        }
      ]
    },
    {
      "cell_type": "code",
      "metadata": {
        "colab": {
          "base_uri": "https://localhost:8080/"
        },
        "id": "s0S0nLo7KqjL",
        "outputId": "376bf042-e8bb-47cf-c33b-a20e7996413e"
      },
      "source": [
        "v.vocabulary_"
      ],
      "execution_count": null,
      "outputs": [
        {
          "output_type": "execute_result",
          "data": {
            "text/plain": [
              "{'and': 0, 'cool': 1, 'gaurav': 2, 'hi': 3, 'is': 4, 'this': 5}"
            ]
          },
          "metadata": {
            "tags": []
          },
          "execution_count": 55
        }
      ]
    },
    {
      "cell_type": "code",
      "metadata": {
        "colab": {
          "base_uri": "https://localhost:8080/"
        },
        "id": "M2RkQT71LWfz",
        "outputId": "05624dbf-5950-4b10-826b-cee9d97e91bc"
      },
      "source": [
        "v.get_feature_names()"
      ],
      "execution_count": null,
      "outputs": [
        {
          "output_type": "execute_result",
          "data": {
            "text/plain": [
              "['and', 'cool', 'gaurav', 'hi', 'is', 'this']"
            ]
          },
          "metadata": {
            "tags": []
          },
          "execution_count": 56
        }
      ]
    },
    {
      "cell_type": "code",
      "metadata": {
        "colab": {
          "base_uri": "https://localhost:8080/"
        },
        "id": "7_Q0XO78KJ7n",
        "outputId": "64539b0f-4211-4731-f2b2-da596e7d80a5"
      },
      "source": [
        "arr.todense()"
      ],
      "execution_count": null,
      "outputs": [
        {
          "output_type": "execute_result",
          "data": {
            "text/plain": [
              "matrix([[0, 0, 1, 1, 1, 1],\n",
              "        [1, 1, 2, 0, 1, 0]])"
            ]
          },
          "metadata": {
            "tags": []
          },
          "execution_count": 57
        }
      ]
    },
    {
      "cell_type": "markdown",
      "metadata": {
        "id": "pNCr0vbZVHe7"
      },
      "source": [
        "### Using TFidfvectorizer"
      ]
    },
    {
      "cell_type": "code",
      "metadata": {
        "colab": {
          "base_uri": "https://localhost:8080/"
        },
        "id": "IcIi90c4KKFM",
        "outputId": "4dd683de-1a3b-4ca3-d154-e5f5ccea070a"
      },
      "source": [
        "tfv = TfidfVectorizer()\n",
        "tfv.fit(x)"
      ],
      "execution_count": null,
      "outputs": [
        {
          "output_type": "execute_result",
          "data": {
            "text/plain": [
              "TfidfVectorizer(analyzer='word', binary=False, decode_error='strict',\n",
              "                dtype=<class 'numpy.float64'>, encoding='utf-8',\n",
              "                input='content', lowercase=True, max_df=1.0, max_features=None,\n",
              "                min_df=1, ngram_range=(1, 1), norm='l2', preprocessor=None,\n",
              "                smooth_idf=True, stop_words=None, strip_accents=None,\n",
              "                sublinear_tf=False, token_pattern='(?u)\\\\b\\\\w\\\\w+\\\\b',\n",
              "                tokenizer=None, use_idf=True, vocabulary=None)"
            ]
          },
          "metadata": {
            "tags": []
          },
          "execution_count": 58
        }
      ]
    },
    {
      "cell_type": "code",
      "metadata": {
        "colab": {
          "base_uri": "https://localhost:8080/"
        },
        "id": "wtiEtKVuM0oS",
        "outputId": "b0c7f639-f84b-4c4a-ed7c-b843044f2f14"
      },
      "source": [
        "tfarr = tfv.transform(x)\n",
        "tfarr"
      ],
      "execution_count": null,
      "outputs": [
        {
          "output_type": "execute_result",
          "data": {
            "text/plain": [
              "<2x6 sparse matrix of type '<class 'numpy.float64'>'\n",
              "\twith 8 stored elements in Compressed Sparse Row format>"
            ]
          },
          "metadata": {
            "tags": []
          },
          "execution_count": 59
        }
      ]
    },
    {
      "cell_type": "code",
      "metadata": {
        "colab": {
          "base_uri": "https://localhost:8080/"
        },
        "id": "7OS-oMX4M0r3",
        "outputId": "b2cc77f7-901d-4553-8913-b35b3ea0c65f"
      },
      "source": [
        "tfv.vocabulary_"
      ],
      "execution_count": null,
      "outputs": [
        {
          "output_type": "execute_result",
          "data": {
            "text/plain": [
              "{'and': 0, 'cool': 1, 'gaurav': 2, 'hi': 3, 'is': 4, 'this': 5}"
            ]
          },
          "metadata": {
            "tags": []
          },
          "execution_count": 60
        }
      ]
    },
    {
      "cell_type": "code",
      "metadata": {
        "colab": {
          "base_uri": "https://localhost:8080/"
        },
        "id": "6UCpMLrUM0w5",
        "outputId": "5402ec17-1d85-4435-d87e-da64c62d26bb"
      },
      "source": [
        "tfarr.todense()"
      ],
      "execution_count": null,
      "outputs": [
        {
          "output_type": "execute_result",
          "data": {
            "text/plain": [
              "matrix([[0.        , 0.        , 0.40993715, 0.57615236, 0.40993715,\n",
              "         0.57615236],\n",
              "        [0.46977774, 0.46977774, 0.66850146, 0.        , 0.33425073,\n",
              "         0.        ]])"
            ]
          },
          "metadata": {
            "tags": []
          },
          "execution_count": 61
        }
      ]
    },
    {
      "cell_type": "code",
      "metadata": {
        "id": "07sNTxajM00a"
      },
      "source": [
        ""
      ],
      "execution_count": null,
      "outputs": []
    },
    {
      "cell_type": "markdown",
      "metadata": {
        "id": "V-ECEWl3U4Ua"
      },
      "source": [
        "# Models"
      ]
    },
    {
      "cell_type": "code",
      "metadata": {
        "trusted": true,
        "id": "yjdEoVchyQd2"
      },
      "source": [
        "X_train, X_test, y_train, y_test = train_test_split(df.text, df.target, test_size=.25, random_state=123, stratify=df.target)"
      ],
      "execution_count": null,
      "outputs": []
    },
    {
      "cell_type": "code",
      "metadata": {
        "trusted": true,
        "id": "7XwrBppZyQd6",
        "colab": {
          "base_uri": "https://localhost:8080/"
        },
        "outputId": "a2002868-092c-4cb5-fbf7-7f9be0737753"
      },
      "source": [
        "for i in [X_train, X_test, y_train, y_test]:\n",
        "    print(i.shape)"
      ],
      "execution_count": null,
      "outputs": [
        {
          "output_type": "stream",
          "text": [
            "(33673,)\n",
            "\n",
            "\n",
            "(11225,)\n",
            "\n",
            "\n",
            "(33673,)\n",
            "\n",
            "\n",
            "(11225,)\n",
            "\n",
            "\n"
          ],
          "name": "stdout"
        }
      ]
    },
    {
      "cell_type": "code",
      "metadata": {
        "trusted": true,
        "id": "wvQWPlcXyQd-",
        "colab": {
          "base_uri": "https://localhost:8080/"
        },
        "outputId": "2f9cf1d0-c11a-4012-f277-0c07b07123ff"
      },
      "source": [
        "print('y_train distribution:')\n",
        "print(y_train.value_counts())\n",
        "print('y_test distribution:')\n",
        "print(y_test.value_counts())"
      ],
      "execution_count": null,
      "outputs": [
        {
          "output_type": "stream",
          "text": [
            "y_train distribution:\n",
            "0    17610\n",
            "1    16063\n",
            "Name: target, dtype: int64\n",
            "y_test distribution:\n",
            "0    5871\n",
            "1    5354\n",
            "Name: target, dtype: int64\n"
          ],
          "name": "stdout"
        }
      ]
    },
    {
      "cell_type": "markdown",
      "metadata": {
        "id": "G7n6S2WdR9xt"
      },
      "source": [
        "## Using Logistic Regression"
      ]
    },
    {
      "cell_type": "code",
      "metadata": {
        "trusted": true,
        "id": "vxqEiQXIyQeC",
        "colab": {
          "base_uri": "https://localhost:8080/"
        },
        "outputId": "f51b2979-eb6f-4b35-af92-7dd27b3da4a1"
      },
      "source": [
        "lr_pipeline_cv = Pipeline([('vect',CountVectorizer(stop_words='english')),\n",
        "                     ('model',LogisticRegression())])\n",
        "lr_pipeline_cv.fit(X_train, y_train)\n",
        "lr_cv_pred = lr_pipeline_cv.predict(X_test)"
      ],
      "execution_count": null,
      "outputs": [
        {
          "output_type": "stream",
          "text": [
            "/usr/local/lib/python3.7/dist-packages/sklearn/linear_model/_logistic.py:940: ConvergenceWarning: lbfgs failed to converge (status=1):\n",
            "STOP: TOTAL NO. of ITERATIONS REACHED LIMIT.\n",
            "\n",
            "Increase the number of iterations (max_iter) or scale the data as shown in:\n",
            "    https://scikit-learn.org/stable/modules/preprocessing.html\n",
            "Please also refer to the documentation for alternative solver options:\n",
            "    https://scikit-learn.org/stable/modules/linear_model.html#logistic-regression\n",
            "  extra_warning_msg=_LOGISTIC_SOLVER_CONVERGENCE_MSG)\n"
          ],
          "name": "stderr"
        }
      ]
    },
    {
      "cell_type": "code",
      "metadata": {
        "trusted": true,
        "id": "2L28l_gkyQeL",
        "colab": {
          "base_uri": "https://localhost:8080/",
          "height": 244
        },
        "outputId": "3efab657-1f34-4594-b92c-4f7f99aaae32"
      },
      "source": [
        "print('accuracy: {:.2f}%'.format(accuracy_score(y_test,lr_cv_pred)*100))\n",
        "cm = confusion_matrix(y_test,lr_cv_pred)\n",
        "sns.heatmap(cm, cmap = 'Blues', annot= True, fmt = 'd', xticklabels = ['fake','real'], yticklabels = ['fake','real'])\n",
        "plt.show()"
      ],
      "execution_count": null,
      "outputs": [
        {
          "output_type": "stream",
          "text": [
            "accuracy: 99.63%\n"
          ],
          "name": "stdout"
        },
        {
          "output_type": "display_data",
          "data": {
            "image/png": "[encoded data removed]",
            "text/plain": [
              "<Figure size 432x288 with 2 Axes>"
            ]
          },
          "metadata": {
            "tags": [],
            "needs_background": "light"
          }
        }
      ]
    },
    {
      "cell_type": "code",
      "metadata": {
        "trusted": true,
        "id": "33CF-zaeyQeO",
        "colab": {
          "base_uri": "https://localhost:8080/"
        },
        "outputId": "4a459f45-9d58-4609-81d8-37b61174b22e"
      },
      "source": [
        "print(classification_report(y_test,lr_cv_pred, target_names=['fake','real']))"
      ],
      "execution_count": null,
      "outputs": [
        {
          "output_type": "stream",
          "text": [
            "              precision    recall  f1-score   support\n",
            "\n",
            "        fake       1.00      1.00      1.00      5871\n",
            "        real       1.00      1.00      1.00      5354\n",
            "\n",
            "    accuracy                           1.00     11225\n",
            "   macro avg       1.00      1.00      1.00     11225\n",
            "weighted avg       1.00      1.00      1.00     11225\n",
            "\n"
          ],
          "name": "stdout"
        }
      ]
    },
    {
      "cell_type": "code",
      "metadata": {
        "trusted": true,
        "id": "60UxBagsyQeR",
        "colab": {
          "base_uri": "https://localhost:8080/"
        },
        "outputId": "2573db58-5b85-44d0-edf7-2d98b4a46d4f"
      },
      "source": [
        "scores = cross_val_score(lr_pipeline_cv, X= df.text, y= df.target, cv=5) \n",
        "print(scores)\n",
        "print(scores.mean()*100)"
      ],
      "execution_count": null,
      "outputs": [
        {
          "output_type": "stream",
          "text": [
            "/usr/local/lib/python3.7/dist-packages/sklearn/linear_model/_logistic.py:940: ConvergenceWarning: lbfgs failed to converge (status=1):\n",
            "STOP: TOTAL NO. of ITERATIONS REACHED LIMIT.\n",
            "\n",
            "Increase the number of iterations (max_iter) or scale the data as shown in:\n",
            "    https://scikit-learn.org/stable/modules/preprocessing.html\n",
            "Please also refer to the documentation for alternative solver options:\n",
            "    https://scikit-learn.org/stable/modules/linear_model.html#logistic-regression\n",
            "  extra_warning_msg=_LOGISTIC_SOLVER_CONVERGENCE_MSG)\n",
            "/usr/local/lib/python3.7/dist-packages/sklearn/linear_model/_logistic.py:940: ConvergenceWarning: lbfgs failed to converge (status=1):\n",
            "STOP: TOTAL NO. of ITERATIONS REACHED LIMIT.\n",
            "\n",
            "Increase the number of iterations (max_iter) or scale the data as shown in:\n",
            "    https://scikit-learn.org/stable/modules/preprocessing.html\n",
            "Please also refer to the documentation for alternative solver options:\n",
            "    https://scikit-learn.org/stable/modules/linear_model.html#logistic-regression\n",
            "  extra_warning_msg=_LOGISTIC_SOLVER_CONVERGENCE_MSG)\n",
            "/usr/local/lib/python3.7/dist-packages/sklearn/linear_model/_logistic.py:940: ConvergenceWarning: lbfgs failed to converge (status=1):\n",
            "STOP: TOTAL NO. of ITERATIONS REACHED LIMIT.\n",
            "\n",
            "Increase the number of iterations (max_iter) or scale the data as shown in:\n",
            "    https://scikit-learn.org/stable/modules/preprocessing.html\n",
            "Please also refer to the documentation for alternative solver options:\n",
            "    https://scikit-learn.org/stable/modules/linear_model.html#logistic-regression\n",
            "  extra_warning_msg=_LOGISTIC_SOLVER_CONVERGENCE_MSG)\n",
            "/usr/local/lib/python3.7/dist-packages/sklearn/linear_model/_logistic.py:940: ConvergenceWarning: lbfgs failed to converge (status=1):\n",
            "STOP: TOTAL NO. of ITERATIONS REACHED LIMIT.\n",
            "\n",
            "Increase the number of iterations (max_iter) or scale the data as shown in:\n",
            "    https://scikit-learn.org/stable/modules/preprocessing.html\n",
            "Please also refer to the documentation for alternative solver options:\n",
            "    https://scikit-learn.org/stable/modules/linear_model.html#logistic-regression\n",
            "  extra_warning_msg=_LOGISTIC_SOLVER_CONVERGENCE_MSG)\n"
          ],
          "name": "stderr"
        },
        {
          "output_type": "stream",
          "text": [
            "[0.99565702 0.99075724 0.98964365 0.99409734 0.99131306]\n",
            "99.22936617016047\n"
          ],
          "name": "stdout"
        }
      ]
    },
    {
      "cell_type": "code",
      "metadata": {
        "id": "5Nsiiiw7D_Mq"
      },
      "source": [
        "lr_pipeline_tf = Pipeline([('vect',TfidfVectorizer(stop_words='english')),\n",
        "                     ('model',LogisticRegression())])\n",
        "lr_pipeline_tf.fit(X_train, y_train)\n",
        "lr_tf_pred = lr_pipeline_tf.predict(X_test)"
      ],
      "execution_count": null,
      "outputs": []
    },
    {
      "cell_type": "code",
      "metadata": {
        "id": "c0xZtQnxD_fz",
        "colab": {
          "base_uri": "https://localhost:8080/",
          "height": 244
        },
        "outputId": "4f794b16-561c-4d11-a8a8-cd9f74bd50d9"
      },
      "source": [
        "print('accuracy: {:.2f}%'.format(accuracy_score(y_test,lr_tf_pred)*100))\n",
        "cm = confusion_matrix(y_test,lr_tf_pred)\n",
        "sns.heatmap(cm, cmap = 'Blues', annot= True, fmt = 'd', xticklabels = ['fake','real'], yticklabels = ['fake','real'])\n",
        "plt.show()"
      ],
      "execution_count": null,
      "outputs": [
        {
          "output_type": "stream",
          "text": [
            "accuracy: 98.65%\n"
          ],
          "name": "stdout"
        },
        {
          "output_type": "display_data",
          "data": {
            "image/png": "[encoded data removed]",
            "text/plain": [
              "<Figure size 432x288 with 2 Axes>"
            ]
          },
          "metadata": {
            "tags": [],
            "needs_background": "light"
          }
        }
      ]
    },
    {
      "cell_type": "code",
      "metadata": {
        "id": "zsUdKT2YD_qJ",
        "colab": {
          "base_uri": "https://localhost:8080/",
          "height": 191
        },
        "outputId": "e551cdb3-6a5f-4288-99e1-9844e484e73c"
      },
      "source": [
        " print(classification_report(y_test,lr_tf_pred, target_names=['fake','real']))"
      ],
      "execution_count": null,
      "outputs": [
        {
          "output_type": "stream",
          "text": [
            "              precision    recall  f1-score   support\n",
            "\n",
            "        fake       0.99      0.98      0.99      5871\n",
            "        real       0.98      0.99      0.99      5354\n",
            "\n",
            "    accuracy                           0.99     11225\n",
            "   macro avg       0.99      0.99      0.99     11225\n",
            "weighted avg       0.99      0.99      0.99     11225\n",
            "\n"
          ],
          "name": "stdout"
        }
      ]
    },
    {
      "cell_type": "code",
      "metadata": {
        "id": "ixTdkuASD_np",
        "colab": {
          "base_uri": "https://localhost:8080/",
          "height": 71
        },
        "outputId": "825b64d4-ff08-4049-f921-675d58cb9acd"
      },
      "source": [
        "scores = cross_val_score(lr_pipeline_tf, X= df.text, y= df.target, cv=5) \n",
        "print(scores)\n",
        "print(scores.mean()*100)"
      ],
      "execution_count": null,
      "outputs": [
        {
          "output_type": "stream",
          "text": [
            "[0.98095768 0.97806236 0.9623608  0.97015258 0.97973048]\n",
            "97.42527813599216\n"
          ],
          "name": "stdout"
        }
      ]
    },
    {
      "cell_type": "markdown",
      "metadata": {
        "id": "WHSe0l6t0UjJ"
      },
      "source": [
        "## Using Naive Bayes"
      ]
    },
    {
      "cell_type": "code",
      "metadata": {
        "trusted": true,
        "id": "fUHIR3ndyQeT"
      },
      "source": [
        "nb_pipeline_cv = Pipeline([('vect',CountVectorizer(stop_words='english')),\n",
        "                     ('model',MultinomialNB())])\n",
        "nb_pipeline_cv.fit(X_train, y_train)\n",
        "nb_cv_pred = nb_pipeline_cv.predict(X_test)"
      ],
      "execution_count": null,
      "outputs": []
    },
    {
      "cell_type": "code",
      "metadata": {
        "id": "knpk2QoA0aIf",
        "colab": {
          "base_uri": "https://localhost:8080/",
          "height": 244
        },
        "outputId": "7920336c-b3e7-44cd-a2eb-7c6a8b53e4e4"
      },
      "source": [
        "print('accuracy: {:.2f}%'.format(accuracy_score(y_test,nb_cv_pred)*100))\n",
        "cm = confusion_matrix(y_test,nb_cv_pred)\n",
        "sns.heatmap(cm, cmap = 'Blues', annot= True, fmt = 'd', xticklabels = ['fake','real'], yticklabels = ['fake','real'])\n",
        "plt.show()"
      ],
      "execution_count": null,
      "outputs": [
        {
          "output_type": "stream",
          "text": [
            "accuracy: 95.33%\n"
          ],
          "name": "stdout"
        },
        {
          "output_type": "display_data",
          "data": {
            "image/png": "[encoded data removed]",
            "text/plain": [
              "<Figure size 432x288 with 2 Axes>"
            ]
          },
          "metadata": {
            "tags": [],
            "needs_background": "light"
          }
        }
      ]
    },
    {
      "cell_type": "code",
      "metadata": {
        "id": "AZoS8aku0aF0",
        "colab": {
          "base_uri": "https://localhost:8080/",
          "height": 191
        },
        "outputId": "c460ca6e-1f92-4b07-cbee-4648e7b777b8"
      },
      "source": [
        "print(classification_report(y_test,nb_cv_pred, target_names=['fake','real']))"
      ],
      "execution_count": null,
      "outputs": [
        {
          "output_type": "stream",
          "text": [
            "              precision    recall  f1-score   support\n",
            "\n",
            "        fake       0.96      0.96      0.96      5871\n",
            "        real       0.95      0.95      0.95      5354\n",
            "\n",
            "    accuracy                           0.95     11225\n",
            "   macro avg       0.95      0.95      0.95     11225\n",
            "weighted avg       0.95      0.95      0.95     11225\n",
            "\n"
          ],
          "name": "stdout"
        }
      ]
    },
    {
      "cell_type": "code",
      "metadata": {
        "id": "0J0vGFsR0hW0",
        "colab": {
          "base_uri": "https://localhost:8080/",
          "height": 71
        },
        "outputId": "073cd1e7-0b4d-4afa-b121-3a537127d8ee"
      },
      "source": [
        "scores = cross_val_score(nb_pipeline_cv, X= df.text, y= df.target, cv=5) \n",
        "print(scores)\n",
        "print(scores.mean()*100)"
      ],
      "execution_count": null,
      "outputs": [
        {
          "output_type": "stream",
          "text": [
            "[0.92728285 0.91681514 0.88452116 0.92092661 0.93596169]\n",
            "91.71014897170359\n"
          ],
          "name": "stdout"
        }
      ]
    },
    {
      "cell_type": "code",
      "metadata": {
        "id": "XicBuEBm0iLA"
      },
      "source": [
        "nb_pipeline_tf = Pipeline([('vect', TfidfVectorizer(stop_words='english')), \n",
        "                           ('model', MultinomialNB())]) \n",
        "nb_pipeline_tf.fit(X_train, y_train) \n",
        "nb_tf_pred = nb_pipeline_tf.predict(X_test)"
      ],
      "execution_count": null,
      "outputs": []
    },
    {
      "cell_type": "code",
      "metadata": {
        "id": "8lcRrWVOGDLg",
        "colab": {
          "base_uri": "https://localhost:8080/",
          "height": 244
        },
        "outputId": "14d4dd6f-f1fb-4832-a8cd-32e440949b7f"
      },
      "source": [
        "print('accuracy: {:.2f}%'.format(accuracy_score(y_test,nb_tf_pred)*100))\n",
        "cm = confusion_matrix(y_test,nb_tf_pred)\n",
        "sns.heatmap(cm, cmap = 'Blues', annot= True, fmt = 'd', xticklabels = ['fake','real'], yticklabels = ['fake','real'])\n",
        "plt.show()"
      ],
      "execution_count": null,
      "outputs": [
        {
          "output_type": "stream",
          "text": [
            "accuracy: 93.63%\n"
          ],
          "name": "stdout"
        },
        {
          "output_type": "display_data",
          "data": {
            "image/png": "[encoded data removed]",
            "text/plain": [
              "<Figure size 432x288 with 2 Axes>"
            ]
          },
          "metadata": {
            "tags": [],
            "needs_background": "light"
          }
        }
      ]
    },
    {
      "cell_type": "code",
      "metadata": {
        "id": "y_9NflmtGDG1",
        "colab": {
          "base_uri": "https://localhost:8080/",
          "height": 51
        },
        "outputId": "61506d77-7ba1-4002-8fb2-0e1f4d79defb"
      },
      "source": [
        "scores = cross_val_score(nb_pipeline_tf, X= df.text, y= df.target, cv=5) \n",
        "print(scores)\n",
        "print(scores.mean()*100)"
      ],
      "execution_count": null,
      "outputs": [
        {
          "output_type": "stream",
          "text": [
            "[0.91158129 0.89053452 0.84977728 0.9094554  0.92849983]\n",
            "89.79696649271463\n"
          ],
          "name": "stdout"
        }
      ]
    },
    {
      "cell_type": "markdown",
      "metadata": {
        "id": "p9TUCD8oWVTz"
      },
      "source": [
        "# END"
      ]
    }
  ]
}